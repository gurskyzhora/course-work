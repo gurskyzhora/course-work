{
 "cells": [
  {
   "cell_type": "code",
   "execution_count": 1,
   "metadata": {},
   "outputs": [],
   "source": [
    "import numpy\n",
    "import datetime\n",
    "import pandas\n",
    "from datetime import date\n",
    "import math\n",
    "import numpy as np\n",
    "from sympy.solvers import solve\n",
    "from sympy import Symbol\n",
    "import random\n",
    "import tqdm as tqdm"
   ]
  },
  {
   "cell_type": "code",
   "execution_count": 2,
   "metadata": {},
   "outputs": [],
   "source": [
    "class MarketData:\n",
    "    def __init__(self, date: datetime.datetime):\n",
    "    # инициализация экземпляра класса, рыночные данные берутся за определенную дату\n",
    "        converted = '{}-{}-{}'.format(date.day, date.strftime(\"%b\"), date.year)\n",
    "        self.data = {}\n",
    "        temp_data = pandas.read_csv('data.csv', header=None)\n",
    "        temp_data_dict = temp_data.to_dict()\n",
    "        for key in temp_data_dict[0].keys():\n",
    "            self.data[temp_data_dict[0][key]] = temp_data_dict[1][key].strip()\n",
    "        \n",
    "        if converted != self.data['Date'].strip():\n",
    "            print('No such date in data! Error!')\n",
    "        \n",
    "        self.cds_curves = {}\n",
    "        self.recovery = None\n",
    "        self.cds_currencies = {}\n",
    "        self.zero_rates = {}\n",
    "        for key, value in self.data.items():\n",
    "            if key[:3] == 'CDS':\n",
    "                spread = key.split('_')[3] == 'SPREAD'\n",
    "                if spread:\n",
    "                    company_name = key.split('_')[1]\n",
    "                    currency = key.split('_')[2]\n",
    "                    period = key.split('_')[4]\n",
    "\n",
    "                    if company_name not in self.cds_currencies:\n",
    "                        self.cds_currencies[company_name] = currency\n",
    "                        \n",
    "                    if company_name not in self.cds_curves:\n",
    "                        self.cds_curves[company_name] = {}\n",
    "#                     if currency not in self.cds_curve[company_name]:\n",
    "#                         self.cds_curve[company_name][currency] = {}\n",
    "#                     self.cds_curve[company_name][currency][convert_period_to_years(period)] = float(value)\n",
    "                    self.cds_curves[company_name][self.convert_period_to_years(period)] = float(value)\n",
    "                if key.split('_')[3] == 'RECOVERY':\n",
    "                    self.recovery = float(value)\n",
    "            if key[:2] == 'IR':\n",
    "#                 'IR_USD_ZERORATE_6M': '0.0006',\n",
    "                currency = key.split('_')[1]\n",
    "                period = key.split('_')[3]\n",
    "                if currency not in self.zero_rates:\n",
    "                    self.zero_rates[currency] = {}\n",
    "                self.zero_rates[currency][self.convert_period_to_years(period)] = float(value)\n",
    "    \n",
    "    def get_cds_curve(self, name: str):\n",
    "    # метод возвращает кривую спредов CDS для заданного имени в формате словаря {term: spread), где term -- срок в годах, spread -- спред в бипсах\n",
    "        if name in self.cds_curves:\n",
    "            return self.cds_curves[name]\n",
    "        else:\n",
    "            print('No such company in cds')\n",
    "            return {}\n",
    "    \n",
    "    def get_cds_recovery(self, name: str):\n",
    "    # метод возвращает численный recovery rate для заданного имени\n",
    "        return self.recovery\n",
    "    \n",
    "    def get_cds_currency(self, name: str):\n",
    "    # метод возвращает валюту CDS для заданного имени\n",
    "        if name in self.cds_currencies:\n",
    "            return self.cds_currencies[name]\n",
    "        else:\n",
    "            print('No such company in cds')\n",
    "            return ''\n",
    "\n",
    "    def get_zero_rates(self, currency: str):\n",
    "    # метод возвращает кривую zero rates для заданной валюты в формате словаря {term: rate), где term -- срок в годах, rate -- численная ставка\n",
    "        if currency in self.zero_rates:\n",
    "            return self.zero_rates[currency]\n",
    "        else:\n",
    "            print('No such currency in zero rates')\n",
    "            return {}\n",
    "            \n",
    "    @staticmethod\n",
    "    def convert_period_to_years(period: str):\n",
    "        # Конвертирует строки формата 7M и 3Y в количество лет\n",
    "        if period[-1] == 'M':\n",
    "            return(float(period[:-1])/12)\n",
    "        elif period[-1] == 'Y':\n",
    "            return(float(period[:-1]))\n",
    "        else:\n",
    "            print('Smth strange! Error')\n",
    "            return 0\n",
    "\n",
    "class InterestRates:\n",
    "    @staticmethod\n",
    "    def get_interpolated_rate(md: MarketData, currency: str, times: list or numpy.array):\n",
    "    # метод возвращает линейно интерполированную ставку для заданной валюты и соответствующих сроков в формате numpy.array (рекомендуется использовать функцию numpy.interp)\n",
    "        if currency in md.zero_rates:\n",
    "            x = sorted(md.zero_rates[currency].keys())\n",
    "            y = [md.zero_rates[currency][period] for period in x]\n",
    "            return numpy.interp(times, x, y)\n",
    "        else:\n",
    "            print('No such currency in zero rates')\n",
    "            return numpy.array()\n",
    "\n",
    "    @staticmethod\n",
    "    def get_discounting(md: MarketData, currency: str, times: list or numpy.array, compounding: int):\n",
    "    # метод возвращает кривую дисконт факторов для заданной валюты, соответствующих сроков и частоты капитализации (compounding) в формате numpy.array\n",
    "    # compounding=1 => капитализация ежегодная, compounding=n => капитализация n раз в год, но (!) compounding=0 => капитализация непрерывная\n",
    "        pass\n",
    "\n",
    "    "
   ]
  },
  {
   "cell_type": "code",
   "execution_count": 3,
   "metadata": {},
   "outputs": [],
   "source": [
    "   def get_cds_recovery(self, name: str):\n",
    "    # метод возвращает численный recovery rate для заданного имени\n",
    "        return self.recovery"
   ]
  },
  {
   "cell_type": "code",
   "execution_count": 4,
   "metadata": {},
   "outputs": [
    {
     "name": "stdout",
     "output_type": "stream",
     "text": [
      "False\n"
     ]
    }
   ],
   "source": [
    "if  get_cds_recovery != 0:\n",
    "    print(\"False\") \n",
    "else:\n",
    "    print('Ok')"
   ]
  },
  {
   "cell_type": "code",
   "execution_count": 5,
   "metadata": {},
   "outputs": [],
   "source": [
    "md = MarketData(datetime.datetime(2021,10,28))"
   ]
  },
  {
   "cell_type": "code",
   "execution_count": 92,
   "metadata": {},
   "outputs": [],
   "source": [
    "class Credit:\n",
    "    \n",
    "    \n",
    "    @staticmethod\n",
    "    def get_bootstrapped_sp(md: MarketData, name: str):\n",
    "        #возвращает кривую спредов CDS для заданного имени в формате словаря {term: spread), где term -- срок в годах, spread -- спред в бипсах\n",
    "        recovery_rate = md.get_cds_recovery(name)\n",
    "        cds_spreads = md.get_cds_curve(name)\n",
    "        surv_probs = {}\n",
    "        for term in cds_spreads:\n",
    "            surv_prob = np.exp(((-cds_spreads[term] / 10000)*term) / (1 - recovery_rate))\n",
    "            surv_probs[term] = surv_prob\n",
    "        return surv_probs\n",
    "    \n",
    "    @staticmethod\n",
    "    def (md: MarketData, name: str, times: list):\n",
    "    # возвращающий для эмитента лог-линейно интерполированную survival probability по заданному набору сроков (в годах) в формате numpy.array.\n",
    "        fp = np.log(list(Credit.get_bootstrapped_sp(md, name).values()))\n",
    "        xp = list(Credit.get_bootstrapped_sp(md, name).keys())\n",
    "        x = times\n",
    "        return np.e ** np.interp(x, xp, fp)\n",
    "    \n",
    "    # линейное интерполирвание спредов\n",
    "    @staticmethod\n",
    "    def get_interpolated_spread(md: MarketData, name: str, times: list):\n",
    "        fp = list(md.get_cds_curve('JAGUAR').values())\n",
    "        xp = list(md.get_cds_curve('JAGUAR').keys())\n",
    "        x = times\n",
    "        return np.interp(x, xp, fp)\n",
    "    \n",
    "    \n",
    "    \n",
    "    @staticmethod\n",
    "    def price_cds(md: MarketData, trade_date: datetime.datetime, name: str, spread: float, term: float, frequency: int, currency: str, side: str):\n",
    "        R = md.recovery\n",
    "        Protection_Leg = (1 - md.recovery) / 2\n",
    "        Premium_Leg = spread / 10000\n",
    "        RPVO1 = 0\n",
    "        dates_of_payments = []\n",
    "        day_of_previous_payment = datetime.datetime(trade_date.year, 1, 20)\n",
    "\n",
    "        # рассматриваем 4 стандартных даты выплаты\n",
    "        # определим дату предыдущего платежа в момент заключения сделки\n",
    "        Count_Of_Payments = 0\n",
    "        if trade_date.month % 3 == 0 and trade_date.day == 20:\n",
    "            Count_Of_Payments = math.ceil(term * frequency)\n",
    "            day_of_previous_payment = trade_date\n",
    "        else:\n",
    "            Count_Of_Payments = math.ceil(term * frequency) + 1\n",
    "            if trade_date.month > 3 and trade_date.month < 6:\n",
    "                day_of_previous_payment = datetime.datetime(trade_date.year, 3, 20)\n",
    "            elif trade_date.month > 6 and trade_date.month < 9:\n",
    "                day_pf_previous_payment = datetime.datetime(trade_date.year, 6, 20)\n",
    "            elif trade_date.month > 9 and trade_date.month < 12:\n",
    "                day_of_previous_payment = datetime.datetime(trade_date.year, 9, 20)\n",
    "            else:\n",
    "                day_of_previous_payment = datetime.datetime(trade_date.year - 1, 12, 20)\n",
    "                \n",
    "        # определим даты платежей\n",
    "        dates_of_payments = [day_of_previous_payment]\n",
    "        for steps in range(1, Count_Of_Payments + 1):\n",
    "            month = dates_of_payments[-1].month\n",
    "            year = dates_of_payments[-1].year\n",
    "            if month + 6 > 12:\n",
    "                month = (month + 6)%12\n",
    "                year += 1\n",
    "            else:\n",
    "                month += 6\n",
    "            dates_of_payments.append(datetime.datetime(year, month, dates_of_payments[-1].day))\n",
    "        \n",
    "        # посчитаем количество дней между соответствующими датами платежей\n",
    "        dates_diff = [(trade_date - day_of_previous_payment).days]\n",
    "        dates_diff.append((dates_of_payments[1] - trade_date).days)\n",
    "        for i in range(1, len(dates_of_payments) - 1):\n",
    "            dates_diff.append((dates_of_payments[i + 1] - dates_of_payments[i]).days)\n",
    "        \n",
    "        # выпишем ставки платежей\n",
    "        rates_of_payments = []\n",
    "        cum_dates = np.cumsum(dates_diff)\n",
    "        rates_of_payments = InterestRates.get_interpolated_rate(md, currency, cum_dates/365.25)\n",
    "        \n",
    "        # выпишем соответсвующие вероятности\n",
    "        probabilities = []\n",
    "        probabilities = Credit.get_interpolated_sp(md, name, cum_dates/365.25)\n",
    "        \n",
    "        # Рассчитаем дисконты\n",
    "        discount_factors = []\n",
    "        time = cum_dates/365.25\n",
    "        for i in range(len(rates_of_payments)):\n",
    "            discount_factors.append(1 / (1 + rates_of_payments[i]) ** time[i])\n",
    "\n",
    "        \n",
    "        # вычислим RPVO1\n",
    "        dates_diff = np.array(dates_diff, dtype='float')\n",
    "        dates_diff /= 365.25\n",
    "        RPVO1 = dates_diff[0] * discount_factors[0] * (1 - probabilities[0])\n",
    "        RPVO1 += 0.5 * dates_diff[1] * discount_factors[0] * (1 - probabilities[0])\n",
    "        RPVO1 += (dates_diff[0] + dates_diff[1]) * discount_factors[0] * probabilities[0]\n",
    "        for i in range(1, len(discount_factors) - 1):\n",
    "            RPVO1 += 0.5 * dates_diff[i + 1] * discount_factors[i] * (probabilities[i - 1] + probabilities[i])\n",
    "        \n",
    "        # premium leg\n",
    "        Premium_Leg *= RPVO1\n",
    "        \n",
    "        # protection leg\n",
    "        # для допустимого уровня погрешности нужны ежемесячные временные шаги\n",
    "        # для этого получим новые интерполированные ставки по месяцам\n",
    "        new_rates = []\n",
    "        new_dates = []\n",
    "        for i in range(1, math.ceil(12 * term)):\n",
    "            new_dates.append(i/12)\n",
    "        new_rates = InterestRates.get_interpolated_rate(md, currency, new_dates)\n",
    "        \n",
    "        # дисконты\n",
    "        discount_factors_new = []\n",
    "        for i in range(len(new_rates)):\n",
    "            discount_factors_new.append(1 / (1 + new_rates[i]) ** new_dates[i])\n",
    "        \n",
    "        # получим новые вероятности\n",
    "        new_probabilities = Credit.get_interpolated_sp(md, name, new_dates)\n",
    "        \n",
    "        # вычислим Protection Leg\n",
    "        res = 0\n",
    "        for i in range(len(discount_factors_new) - 1):\n",
    "            res += (discount_factors_new[i] + discount_factors_new[i + 1]) * (new_probabilities[i] - new_probabilities[i + 1])\n",
    "        Protection_Leg *= res\n",
    "        \n",
    "        V = Protection_Leg - Premium_Leg\n",
    "        \n",
    "        if side == 'buy':\n",
    "            return V\n",
    "        elif side == 'sell':\n",
    "            return -V\n",
    "\n",
    "    @staticmethod \n",
    "    def price_cln(md: MarketData, trade_date: datetime.datetime, name: str, coupon: float, term: float, frequency: int, currency: str, pay_accrued: bool, recovery: float):\n",
    "        nominal = 1\n",
    "        recovery_rate = md.recovery\n",
    "        dates = []\n",
    "        day_of_previous_payment = trade_date\n",
    "    \n",
    "        N = 0\n",
    "        if trade_date.month % 3 == 0 and trade_date.day == 20:\n",
    "            N = math.ceil(term * frequency)\n",
    "        else:\n",
    "            N = math.ceil(term * frequency) + 1\n",
    "            if trade_date.month > 3 and trade_date.month < 6:\n",
    "                day_of_previous_payment = datetime.datetime(trade_date.year, 3, 20)\n",
    "            elif trade_date.month > 6 and trade_date.month < 9:\n",
    "                day_of_previous_payment = datetime.datetime(trade_date.year, 6, 20)\n",
    "            elif trade_date.month > 9 and trade_date.month < 12:\n",
    "                day_of_previous_payment = datetime.datetime(trade_date.year, 9, 20)\n",
    "            else:\n",
    "                day_of_previous_payment = datetime.datetime(trade_date.year - 1, 12, 20)    \n",
    "            \n",
    "        dates = [day_of_previous_payment]\n",
    "        for i in range(N):\n",
    "            month = dates[-1].month\n",
    "            year = dates[-1].year\n",
    "            if month + 6 > 12:\n",
    "                month = (month + 6)%12\n",
    "                year += 1\n",
    "            else:\n",
    "                month += 6\n",
    "            dates.append(datetime.datetime(year, month, dates[-1].day))\n",
    "            \n",
    "        dates_diff = [(trade_date - day_of_previous_payment).days]\n",
    "        dates_diff.append((dates[1] - trade_date).days)\n",
    "    \n",
    "        for i in range(1, len(dates) - 1):\n",
    "            dates_diff.append((dates[i + 1] - dates[i]).days)\n",
    "        \n",
    "        cum_dates = np.cumsum(dates_diff)\n",
    "    \n",
    "        rates = []\n",
    "        rates = InterestRates.get_interpolated_rate(md, currency, cum_dates/365.25)\n",
    "        \n",
    "        probabilities = []\n",
    "        probabilities = Credit.get_interpolated_sp(md, name, cum_dates/365.25)\n",
    "        \n",
    "        dates = cum_dates / 365.25\n",
    "        discount_factors1 = []\n",
    "        for i in range(len(rates)):\n",
    "            discount_factors1.append(1 / (1 + rates[i]) ** dates[i])\n",
    "    \n",
    "        value = rates[-1]*probabilities[-1]\n",
    "        for t in range(len(discount_factors1) - 1):\n",
    "            value += nominal*(discount_factors1[t+1]*probabilities[t+1]*coupon / 100) + discount_factors1[t+1]*(probabilities[t] - probabilities[t+1])*recovery_rate\n",
    "        \n",
    "        return value\n",
    "    \n",
    "    # Европейский CDS: protection leg платится в момент экспирации контракта\n",
    "    # (более упрощенный прайсер по сравнению с первым)\n",
    "    @staticmethod\n",
    "    def price_european_cds(md: MarketData, name: str, term: float, frequency: int, currency: str, side: str, coupon: float):\n",
    "        \n",
    "        # периоды платежей\n",
    "        periods_of_premium_payments = []\n",
    "        i = 0\n",
    "        while i <= term:\n",
    "            i += 1 / frequency\n",
    "            periods_of_premium_payments.append(i)\n",
    "        \n",
    "        # посчитаем соответствующие вероятности\n",
    "        survival_prob = []\n",
    "        survival_prob = Credit.get_interpolated_sp(md, name, periods_of_premium_payments)\n",
    "        \n",
    "        # посчитаем коэффициенты дисконтирования для платежей\n",
    "        rates = InterestRates.get_interpolated_rate(md, currency, periods_of_premium_payments)\n",
    "        discount_factors = []\n",
    "        for i in range(len(rates)):\n",
    "            discount_factors.append(1 / (1 + rates[i]) ** periods_of_premium_payments[i])\n",
    "        \n",
    "        # premium leg\n",
    "        premium_leg = 0 \n",
    "        for i in range(len(rates)):\n",
    "            premium_leg += ((coupon / 100) / frequency) * discount_factors[i] * survival_prob[i]\n",
    "            \n",
    "        # protection leg\n",
    "        R = md.recovery\n",
    "        protection_leg = (1 - R) * (1 - survival_prob[-1]) * discount_factors[-1]\n",
    "        \n",
    "        # цена CDS\n",
    "        V = protection_leg - premium_leg\n",
    "        if side == 'buy':\n",
    "            return V\n",
    "        elif side == 'sell':\n",
    "            return -V\n",
    "        \n",
    "        \n",
    "    # Американский CDS\n",
    "    # Protection leg платится после кредитного события\n",
    "    # в этом случае premium leg рассчитывается так же, как и в европейском CDS\n",
    "    # а protection leg считается как в первоначальном прайсере, учитывая вероятности дефолта на каждом интервале и приближение\n",
    "    @staticmethod\n",
    "    def price_american_cds(md: MarketData, name: str, term: float, frequency: int, currency: str, side: str, coupon: float):\n",
    "        \n",
    "        # периоды платежей\n",
    "        periods_of_premium_payments = []\n",
    "        i = 0\n",
    "        while i <= term:\n",
    "            i += 1 / frequency\n",
    "            periods_of_premium_payments.append(i)\n",
    "        \n",
    "        # посчитаем соответствующие вероятности\n",
    "        survival_prob = []\n",
    "        survival_prob = Credit.get_interpolated_sp(md, name, periods_of_premium_payments)\n",
    "        \n",
    "        # посчитаем коэффициенты дисконтирования для платежей\n",
    "        rates = InterestRates.get_interpolated_rate(md, currency, periods_of_premium_payments)\n",
    "        discount_factors = []\n",
    "        for i in range(len(rates)):\n",
    "            discount_factors.append(1 / (1 + rates[i]) ** periods_of_premium_payments[i])\n",
    "        \n",
    "        # premium leg\n",
    "        premium_leg = 0 \n",
    "        for i in range(len(rates)):\n",
    "            premium_leg += ((coupon / 100) / frequency) * discount_factors[i] * survival_prob[i]\n",
    "        \n",
    "        # protection leg\n",
    "        protection_leg = (1 - md.recovery) / 2\n",
    "        \n",
    "        # для допустимого уровня погрешности нужны ежемесячные временные шаги\n",
    "        # для этого получим новые интерполированные ставки по месяцам\n",
    "        new_rates = []\n",
    "        new_dates = []\n",
    "        for i in range(1, math.ceil(12 * term)):\n",
    "            new_dates.append(i/12)\n",
    "        new_rates = InterestRates.get_interpolated_rate(md, currency, new_dates)\n",
    "        \n",
    "        discount_factors_new = []\n",
    "        for i in range(len(new_rates)):\n",
    "            discount_factors_new.append(1 / (1 + new_rates[i]) ** new_dates[i])\n",
    "\n",
    "        \n",
    "        # получим новые вероятности\n",
    "        new_probabilities = Credit.get_interpolated_sp(md, name, new_dates)\n",
    "        \n",
    "        # вычислим Protection Leg\n",
    "        res = 0\n",
    "        for i in range(len(discount_factors_new) - 1):\n",
    "            res += (discount_factors_new[i] + discount_factors_new[i + 1]) * (new_probabilities[i] - new_probabilities[i + 1])\n",
    "        protection_leg *= res\n",
    "        \n",
    "        V = protection_leg - premium_leg\n",
    "        \n",
    "        if side == 'buy':\n",
    "            return V\n",
    "        elif side == 'sell':\n",
    "            return -V\n",
    "    \n",
    "    # реализация прайсера CMCDS \n",
    "    # не смог найти данные по спредам cds корпоративных облигаций, поэтому буду считать по старым данным с ягуаром\n",
    "    # индексируемый спред будем считать на основе американского CDS    \n",
    "        \n",
    "        \n",
    "    @staticmethod\n",
    "    def price_cmcds(md: MarketData, name: str, term: float, frequency: int, currency: str, side: str, mode: bool):\n",
    "        \n",
    "        Protection_Leg_1 = 0\n",
    "        Premium_Leg_1 = 0\n",
    "        Premium_Leg = 0\n",
    "        Protection_Leg = 0\n",
    "        \n",
    "        # Protection Leg не имеет изменений по сравнению с прошлыми рассчетами, так что выпишем сначала его\n",
    "        \n",
    "        # protection leg\n",
    "        Protection_Leg = (1 - md.recovery) / 2\n",
    "        \n",
    "        # для допустимого уровня погрешности нужны ежемесячные временные шаги\n",
    "        # для этого получим новые интерполированные ставки по месяцам\n",
    "        new_rates = []\n",
    "        new_dates = []\n",
    "        for i in range(1, math.ceil(12 * term)):\n",
    "            new_dates.append(i/12)\n",
    "        new_rates = InterestRates.get_interpolated_rate(md, currency, new_dates)\n",
    "        \n",
    "        discount_factors_new = []\n",
    "        for i in range(len(new_rates)):\n",
    "            discount_factors_new.append(1 / (1 + new_rates[i]) ** new_dates[i])\n",
    "\n",
    "        \n",
    "        # получим новые вероятности\n",
    "        new_probabilities = Credit.get_interpolated_sp(md, name, new_dates)\n",
    "        \n",
    "        # вычислим Protection Leg\n",
    "        res = 0\n",
    "        for i in range(len(discount_factors_new) - 1):\n",
    "            res += (discount_factors_new[i] + discount_factors_new[i + 1]) * (new_probabilities[i] - new_probabilities[i + 1])\n",
    "        Protection_Leg *= res\n",
    "        \n",
    "        # теперь рассчитаем плавающие спреды\n",
    "        \n",
    "        # периоды платежей\n",
    "        periods_of_premium_payments = []\n",
    "        i = 0\n",
    "        while i <= term:\n",
    "            i += 1 / frequency\n",
    "            periods_of_premium_payments.append(i)\n",
    "        \n",
    "        # посчитаем соответствующие вероятности\n",
    "        survival_prob = []\n",
    "        survival_prob = Credit.get_interpolated_sp(md, name, periods_of_premium_payments)\n",
    "        \n",
    "        # Рассчитаем форвардные ставки с даты предыдущего платежа на дату следующего платежа\n",
    "        \n",
    "        rates = InterestRates.get_interpolated_rate(md, currency, periods_of_premium_payments)\n",
    "        \n",
    "        fwd_rates = []\n",
    "        fwd_rates.append(rates[0])\n",
    "        \n",
    "        for i in range(1, len(periods_of_premium_payments) - 1):\n",
    "            fwd_rates.append((((1 + rates[i + 1]) ** periods_of_premium_payments[i + 1]) / ((1 + rates[i]) ** periods_of_premium_payments[i])) ** (1 / (periods_of_premium_payments[i + 1] - periods_of_premium_payments[i])) - 1)\n",
    "        \n",
    "        # выпишем соответствующие дискаунт факторы\n",
    "        \n",
    "        discount_factors = [1 / (1 + fwd_rates[0]) ** periods_of_premium_payments[0]]\n",
    "        for i in range(1, len(periods_of_premium_payments) - 1):\n",
    "            discount_factors.append(1 / (1 + fwd_rates[i]) ** (periods_of_premium_payments[i] - periods_of_premium_payments[i - 1]))\n",
    "        \n",
    "        floating_spread = []\n",
    "        \n",
    "        if mode == 0:\n",
    "        \n",
    "            x = Symbol('x')\n",
    "\n",
    "\n",
    "            for t in range(len(periods_of_premium_payments) - 1):\n",
    "                Premium_Leg_1 = (x / frequency) * discount_factors[t] * survival_prob[t]\n",
    "            \n",
    "                Protection_Leg_1 = (1 - md.recovery) / 2\n",
    "            \n",
    "                new_rates_1 = []\n",
    "                new_dates_1 = []\n",
    "                for i in range(1, math.ceil(12 * periods_of_premium_payments[t]) + 1):\n",
    "                    new_dates_1.append(i/12)\n",
    "                new_rates_1 = InterestRates.get_interpolated_rate(md, currency, new_dates_1)\n",
    "        \n",
    "                discount_factors_new_1 = []\n",
    "                for i in range(len(new_rates_1)):\n",
    "                    discount_factors_new_1.append(1 / (1 + new_rates_1[i]) ** new_dates_1[i])\n",
    "\n",
    "        \n",
    "                # получим новые вероятности\n",
    "                new_probabilities_1 = Credit.get_interpolated_sp(md, name, new_dates_1)\n",
    "        \n",
    "                # вычислим Protection Leg\n",
    "                res = 0\n",
    "                for i in range(len(discount_factors_new_1) - 1):\n",
    "                    res += (discount_factors_new_1[i] + discount_factors_new_1[i + 1]) * (new_probabilities_1[i] - new_probabilities_1[i + 1])\n",
    "                Protection_Leg_1 *= res\n",
    "            \n",
    "                floating_spread.append(solve(Protection_Leg_1 - Premium_Leg_1, x))\n",
    "            \n",
    "            # Теперь посчитаем итоговую премиальную ногу с плавающими спредами\n",
    "        \n",
    "            floating_spread = np.array(floating_spread)\n",
    "            floating_spread /= 100\n",
    "        \n",
    "            for i in range(len(floating_spread)):\n",
    "                Premium_Leg += floating_spread[i] * discount_factors[i] * survival_prob[i]\n",
    "            Premium_Leg = float(Premium_Leg)\n",
    "                \n",
    "        elif mode == 1:\n",
    "            \n",
    "            floting_spread = []\n",
    "            for i in range(len(periods_of_premium_payments)):\n",
    "                floating_spread.append(random.lognormvariate(mu = 0, sigma = 0.01 * math.sqrt(periods_of_premium_payments[i])))\n",
    "                \n",
    "            floating_spread = np.array(floating_spread)\n",
    "            floating_spread /= 100\n",
    "                \n",
    "            for i in range(len(floating_spread) - 1):\n",
    "                Premium_Leg += floating_spread[i] * discount_factors[i] * survival_prob[i]\n",
    "            Premium_Leg = float(Premium_Leg)\n",
    "\n",
    "  \n",
    "                \n",
    "        V = Protection_Leg - Premium_Leg\n",
    "        \n",
    "        if side == 'buy':\n",
    "            return V\n",
    "        elif side == 'sell':\n",
    "            return -V\n",
    "        \n",
    "        @staticmethod\n",
    "    def price_cds_fwd(md: MarketData, name: str, term: float, frequency: int, currency: str, fwd_period: float, side: str):\n",
    "        \n",
    "        # рассчитаем форвардный спред\n",
    "        # контракт сроком на term через fwd_period\n",
    "        \n",
    "        # даты платежей\n",
    "        \n",
    "        i = fwd_period\n",
    "        dates_of_premium_payments = [i]\n",
    "        while i < term:\n",
    "            i += 1 / frequency\n",
    "            dates_of_premium_payments.append(i)\n",
    "        \n",
    "        # спотовые ставки на эти даты\n",
    "        spot_rates = InterestRates.get_interpolated_rate(md, currency, dates_of_premium_payments)\n",
    "\n",
    "        # форвардные ставки\n",
    "        \n",
    "        fwd_rates = []\n",
    "        for i in range(1, len(spot_rates)):\n",
    "            fwd_rates.append((((1 + spot_rates[i]) ** dates_of_premium_payments[i]) / \n",
    "                            ((1 + spot_rates[0]) ** dates_of_premium_payments[0])) ** \n",
    "                            (1 / (dates_of_premium_payments[i] - dates_of_premium_payments[0])) - 1)\n",
    "        \n",
    "        # посчитаем дисконты на эти ставки\n",
    "        \n",
    "        discount_factors = []\n",
    "        for i in range(len(fwd_rates)):\n",
    "            discount_factors.append(1 / (1 + fwd_rates[i]) ** (dates_of_premium_payments[i + 1] - dates_of_premium_payments[0]))\n",
    "        \n",
    "        \n",
    "        # посчитаем вероятности\n",
    "        \n",
    "        surv_prob = Credit.get_interpolated_sp(md, name, dates_of_premium_payments)\n",
    "        \n",
    "        # посчитаем premium leg\n",
    "        \n",
    "        Premium_Leg = 0\n",
    "        \n",
    "        x = Symbol('x')\n",
    "        \n",
    "        for t in range(len(discount_factors)):\n",
    "                Premium_Leg = (x / frequency) * discount_factors[t] * surv_prob[t + 1]\n",
    "                \n",
    "        \n",
    "        # посчитаем protection leg\n",
    "        \n",
    "        Protection_Leg = (1 - 0.4) / 2\n",
    "        \n",
    "        # для допустимого уровня погрешности нужны ежемесячные временные шаги\n",
    "        # для этого получим новые интерполированные ставки по месяцам\n",
    "        new_rates = []\n",
    "        new_dates = []\n",
    "        for i in range(math.ceil(12 * fwd_period), math.ceil(12 * term)):\n",
    "            new_dates.append(i/12)\n",
    "        new_rates = InterestRates.get_interpolated_rate(md, currency, new_dates)\n",
    "        \n",
    "\n",
    "         # получим новые вероятности\n",
    "        new_probabilities = Credit.get_interpolated_sp(md, name, new_dates)\n",
    "        \n",
    "        # получим новые форвардные ставки и дисконты на них\n",
    "        \n",
    "        fwd_rates_new = []\n",
    "        for i in range(1, len(new_rates)):\n",
    "            fwd_rates_new.append((((1 + new_rates[i]) ** new_dates[i]) / \n",
    "                            ((1 + new_rates[0]) ** new_dates[0])) ** \n",
    "                            (1 / (new_dates[i] - new_dates[0])) - 1)\n",
    "            \n",
    "        new_df = []\n",
    "        for i in range(len(fwd_rates_new)):\n",
    "            new_df.append(1 / (1 + fwd_rates_new[i]) ** (new_dates[i + 1] - new_dates[0]))\n",
    "        \n",
    "        \n",
    "        # вычислим Protection Leg\n",
    "        res = 0\n",
    "        for i in range(len(new_df) - 1):\n",
    "            res += (new_df[i] + new_df[i + 1]) * (new_probabilities[i + 1] - new_probabilities[i + 2])\n",
    "        Protection_Leg *= res\n",
    "        \n",
    "        # получим форвардный спред\n",
    "        \n",
    "        Fwd_Spread = solve(Protection_Leg - Premium_Leg, x)[0]\n",
    "        \n",
    "        # Теперь сделаем сам прайсер\n",
    "        \n",
    "        Protection_Leg_1 = 0\n",
    "        Premium_Leg_1 = 0\n",
    "        \n",
    "        spot_discounts = []\n",
    "        for i in range(1, len(spot_rates)):\n",
    "            spot_discounts.append(1 / (1 + spot_rates[i]) ** (dates_of_premium_payments[i]))\n",
    "        \n",
    "        for t in range(1, len(dates_of_premium_payments) - 1):\n",
    "            Premium_Leg_1 = (Fwd_Spread / frequency) * spot_discounts[t] * surv_prob[t]\n",
    "            \n",
    "        new_spot_discounts = []\n",
    "        for i in range(len(new_rates) - 1):\n",
    "            new_spot_discounts.append(1 / (1 + new_rates[i]) ** (new_dates[i]))\n",
    "        \n",
    "        res_1 = 0\n",
    "        for i in range(1, len(new_spot_discounts) - 1):\n",
    "            res_1 += (new_spot_discounts[i] + new_spot_discounts[i + 1]) * (new_probabilities[i] - new_probabilities[i + 1])\n",
    "        Protection_Leg_1 *= res_1\n",
    "        \n",
    "        \n",
    "\n",
    "        \n",
    "        V = Protection_Leg_1 - Premium_Leg_1\n",
    "        \n",
    "        if side == 'buy':\n",
    "            return V\n",
    "        elif side == 'sell':\n",
    "            return -V\n",
    "        elif side == 'spread':\n",
    "            return Fwd_Spread\n",
    "        \n",
    "        \n",
    "        \n",
    "\n",
    "    \n",
    "#trade_date -- дата начала контракта, spread -- спред в бипсах, term -- срок в годах (от даты начала), \n",
    "#frequency -- частота выплаты спреда в год, currency -- валюта оцениваемого CDS \n",
    "#(она может отличаться от котируемой на рынке), \n",
    "#side -- buy/sell (здесь buy означает покупку защиты = buy protection)\n",
    "#(!) дата оценки (value date) может быть получена из экземпляра рыночных данных\n"
   ]
  },
  {
   "cell_type": "code",
   "execution_count": 7,
   "metadata": {},
   "outputs": [],
   "source": [
    "# проверим работу Американсокго и Европейского CDS"
   ]
  },
  {
   "cell_type": "code",
   "execution_count": 8,
   "metadata": {},
   "outputs": [
    {
     "data": {
      "text/plain": [
       "-0.08424126170750987"
      ]
     },
     "execution_count": 8,
     "metadata": {},
     "output_type": "execute_result"
    }
   ],
   "source": [
    "Credit.price_european_cds(md, 'JAGUAR', 4.5, 2, 'EUR', 'sell', 2) "
   ]
  },
  {
   "cell_type": "code",
   "execution_count": 9,
   "metadata": {},
   "outputs": [
    {
     "data": {
      "text/plain": [
       "-0.05281367168079126"
      ]
     },
     "execution_count": 9,
     "metadata": {},
     "output_type": "execute_result"
    }
   ],
   "source": [
    "Credit.price_american_cds(md, 'JAGUAR', 4.5, 2, 'EUR', 'sell', 2)"
   ]
  },
  {
   "cell_type": "code",
   "execution_count": 10,
   "metadata": {},
   "outputs": [
    {
     "data": {
      "text/plain": [
       "array([0.98293397, 0.9672161 , 0.94145066, 0.93133771, 0.86392729,\n",
       "       0.85129207, 0.71952309])"
      ]
     },
     "execution_count": 10,
     "metadata": {},
     "output_type": "execute_result"
    }
   ],
   "source": [
    "# Проверим вероятности на адекватность\n",
    "Credit.get_interpolated_sp(md, 'JAGUAR', [0.61, 1, 1.5, 1.7, 2.8, 3, 5])"
   ]
  },
  {
   "cell_type": "code",
   "execution_count": 11,
   "metadata": {},
   "outputs": [
    {
     "data": {
      "text/plain": [
       "array([379.])"
      ]
     },
     "execution_count": 11,
     "metadata": {},
     "output_type": "execute_result"
    }
   ],
   "source": [
    "Credit.get_interpolated_spread(md, 'JAGUAR', [4.5])"
   ]
  },
  {
   "cell_type": "markdown",
   "metadata": {},
   "source": [
    "def price_cln(md: MarketData, trade_date: datetime.datetime, name: str, coupon: float, \n",
    "              term: float, frequency: int, currency: str, pay_accrued: bool, recovery: float),\n",
    "trade_date -- дата начала ноты, coupon -- купон численный,\n",
    "term -- срок в годах (от даты начала), frequency -- частота выплаты купона в год, \n",
    "currency -- валюта CLN (может отличаться от валюты CDS), \n",
    "pay_accrued -- определяет платится или нет накопленный купон при дефолте,\n",
    "recovery -- возврат CLN при дефолте (может отличаться от рыночного)\n"
   ]
  },
  {
   "cell_type": "code",
   "execution_count": 12,
   "metadata": {},
   "outputs": [
    {
     "data": {
      "text/plain": [
       "0.10643185731729549"
      ]
     },
     "execution_count": 12,
     "metadata": {},
     "output_type": "execute_result"
    }
   ],
   "source": [
    "Credit.price_cln(md, datetime.datetime(2021,10,28), 'JAGUAR', 1, 4.5, 1, 'EUR', 0, md.recovery)"
   ]
  },
  {
   "cell_type": "code",
   "execution_count": 13,
   "metadata": {},
   "outputs": [
    {
     "data": {
      "text/plain": [
       "379.0"
      ]
     },
     "execution_count": 13,
     "metadata": {},
     "output_type": "execute_result"
    }
   ],
   "source": [
    "So = Credit.get_interpolated_spread(md, 'JAGUAR', [4.5])\n",
    "So[0]"
   ]
  },
  {
   "cell_type": "markdown",
   "metadata": {},
   "source": [
    "@staticmethod\n",
    "def price_cds(md: MarketData, trade_date: datetime.datetime, name: str, spread: float, term: float, frequency: int, currency: str, side: str),\n",
    "trade_date -- дата начала контракта, spread -- спред в бипсах, term -- срок в годах (от даты начала), frequency -- частота выплаты спреда в год, currency -- валюта оцениваемого CDS (она может отличаться от котируемой на рынке), side -- buy/sell (здесь buy означает покупку защиты = buy protection)\n",
    "(!) дата оценки (value date) может быть получена из экземпляра рыночных данны\n"
   ]
  },
  {
   "cell_type": "code",
   "execution_count": 14,
   "metadata": {},
   "outputs": [
    {
     "data": {
      "text/plain": [
       "0.032588135651612504"
      ]
     },
     "execution_count": 14,
     "metadata": {},
     "output_type": "execute_result"
    }
   ],
   "source": [
    "Credit.price_cds(md, datetime.datetime(2021,10,28), 'JAGUAR', So[0], 4.5, 2, 'EUR', 'sell') "
   ]
  },
  {
   "cell_type": "markdown",
   "metadata": {},
   "source": [
    "Добавил функцию линейной интерполяции спредов в класс Credit. В price_cds нужен спред на 4.5 года, его можно получить из этой функции так: Credit.get_interpolated_spread(md, 'JAGUAR', [4.5])"
   ]
  },
  {
   "cell_type": "markdown",
   "metadata": {},
   "source": [
    "### 1  Какой максимальный купон можно предложить клиенту, если деск хочет оставить себе 3% маржи?"
   ]
  },
  {
   "cell_type": "code",
   "execution_count": 15,
   "metadata": {},
   "outputs": [],
   "source": [
    "from sympy.solvers import solve\n",
    "from sympy import Symbol"
   ]
  },
  {
   "cell_type": "code",
   "execution_count": 16,
   "metadata": {},
   "outputs": [
    {
     "data": {
      "text/plain": [
       "(-0.870101794156011, 3.73322392029813)"
      ]
     },
     "execution_count": 16,
     "metadata": {},
     "output_type": "execute_result"
    }
   ],
   "source": [
    "x = Symbol('x')\n",
    "CDS = Credit.price_cds(md, datetime.datetime(2021,10,28), 'JAGUAR', x, 4.5, 2, 'EUR', 'sell') \n",
    "CLN = Credit.price_cln(md, datetime.datetime(2021,10,28), 'JAGUAR', x, 4.5, 2, 'EUR', 1, md.recovery)\n",
    "Coupon1 = solve(CLN - 0.03, x)\n",
    "Coupon2 = solve(CDS - 0.03, x)\n",
    "Coupon1[0], Coupon2[0] / 100"
   ]
  },
  {
   "cell_type": "code",
   "execution_count": 17,
   "metadata": {},
   "outputs": [
    {
     "data": {
      "text/plain": [
       "(-0.981890881852631, 3.73172404365534)"
      ]
     },
     "execution_count": 17,
     "metadata": {},
     "output_type": "execute_result"
    }
   ],
   "source": [
    "x = Symbol('x')\n",
    "CDS = Credit.price_cds(md, datetime.datetime(2021,10,28), 'JAGUAR', x, 4.5, 2, 'USD', 'sell') \n",
    "CLN = Credit.price_cln(md, datetime.datetime(2021,10,28), 'JAGUAR', x, 4.5, 2, 'USD', 1, md.recovery)\n",
    "Coupon1 = solve(CLN - 0.03, x)\n",
    "Coupon2 = solve(CDS - 0.03, x)\n",
    "Coupon1[0], Coupon2[0] / 100"
   ]
  },
  {
   "cell_type": "markdown",
   "metadata": {},
   "source": [
    "1) Возможно можно уменьшить частоту выплаты купона в год, например, взять одну выплату в год, либо запросить всю выплату в дату окончания контракта. Тогда есть вероятность изменения процетных ставок и увеличения купона.\n",
    "\n",
    "2) Так же можно покупать в разных валютах и засчет изменения курса получать прибыль\n",
    "\n",
    "3) Возможно у эмитентов с более низким кредитным качеством более высокая вероятность дефолта, соответственоо такой CLN должен иметь бОльший купон"
   ]
  },
  {
   "cell_type": "markdown",
   "metadata": {},
   "source": [
    "Сравним их значения в зависимости от купона, валюты.."
   ]
  },
  {
   "cell_type": "code",
   "execution_count": 18,
   "metadata": {},
   "outputs": [
    {
     "data": {
      "text/plain": [
       "-0.08424126170750987"
      ]
     },
     "execution_count": 18,
     "metadata": {},
     "output_type": "execute_result"
    }
   ],
   "source": [
    "Credit.price_european_cds(md, 'JAGUAR', 4.5, 2, 'EUR', 'sell', 2) "
   ]
  },
  {
   "cell_type": "code",
   "execution_count": 19,
   "metadata": {},
   "outputs": [
    {
     "data": {
      "text/plain": [
       "-0.05281367168079126"
      ]
     },
     "execution_count": 19,
     "metadata": {},
     "output_type": "execute_result"
    }
   ],
   "source": [
    "Credit.price_american_cds(md, 'JAGUAR', 4.5, 2, 'EUR', 'sell', 2)"
   ]
  },
  {
   "cell_type": "code",
   "execution_count": 20,
   "metadata": {},
   "outputs": [
    {
     "data": {
      "text/plain": [
       "-0.1279238682371432"
      ]
     },
     "execution_count": 20,
     "metadata": {},
     "output_type": "execute_result"
    }
   ],
   "source": [
    "Credit.price_european_cds(md, 'JAGUAR', 4.5, 2, 'EUR', 'sell', 1) "
   ]
  },
  {
   "cell_type": "code",
   "execution_count": 21,
   "metadata": {},
   "outputs": [
    {
     "data": {
      "text/plain": [
       "-0.09649627821042459"
      ]
     },
     "execution_count": 21,
     "metadata": {},
     "output_type": "execute_result"
    }
   ],
   "source": [
    "Credit.price_american_cds(md, 'JAGUAR', 4.5, 2, 'EUR', 'sell', 1)"
   ]
  },
  {
   "cell_type": "code",
   "execution_count": 22,
   "metadata": {},
   "outputs": [
    {
     "data": {
      "text/plain": [
       "-0.07408993503300847"
      ]
     },
     "execution_count": 22,
     "metadata": {},
     "output_type": "execute_result"
    }
   ],
   "source": [
    "Credit.price_european_cds(md, 'JAGUAR', 4.5, 2, 'USD', 'sell', 2) "
   ]
  },
  {
   "cell_type": "code",
   "execution_count": 23,
   "metadata": {},
   "outputs": [
    {
     "data": {
      "text/plain": [
       "-0.05110623946725841"
      ]
     },
     "execution_count": 23,
     "metadata": {},
     "output_type": "execute_result"
    }
   ],
   "source": [
    "Credit.price_american_cds(md, 'JAGUAR', 4.5, 2, 'USD', 'sell', 2)"
   ]
  },
  {
   "cell_type": "code",
   "execution_count": 24,
   "metadata": {},
   "outputs": [
    {
     "data": {
      "text/plain": [
       "-0.11627708277398877"
      ]
     },
     "execution_count": 24,
     "metadata": {},
     "output_type": "execute_result"
    }
   ],
   "source": [
    "Credit.price_european_cds(md, 'JAGUAR', 4.5, 2, 'USD', 'sell', 1) "
   ]
  },
  {
   "cell_type": "code",
   "execution_count": 25,
   "metadata": {},
   "outputs": [
    {
     "data": {
      "text/plain": [
       "-0.09329338720823871"
      ]
     },
     "execution_count": 25,
     "metadata": {},
     "output_type": "execute_result"
    }
   ],
   "source": [
    "Credit.price_american_cds(md, 'JAGUAR', 4.5, 2, 'USD', 'sell', 1)"
   ]
  },
  {
   "cell_type": "markdown",
   "metadata": {},
   "source": [
    "Как видим - значение Американского CDS немного больше Европейского"
   ]
  },
  {
   "cell_type": "code",
   "execution_count": 26,
   "metadata": {},
   "outputs": [],
   "source": [
    "# найдем значение купона для первой задачи с прошлой недели и сравним с тем, что получилось тогда"
   ]
  },
  {
   "cell_type": "code",
   "execution_count": 27,
   "metadata": {},
   "outputs": [
    {
     "data": {
      "text/plain": [
       "[4.46733758044268]"
      ]
     },
     "execution_count": 27,
     "metadata": {},
     "output_type": "execute_result"
    }
   ],
   "source": [
    "# European, USD\n",
    "x = Symbol('x')\n",
    "CDS = Credit.price_european_cds(md, 'JAGUAR', 4.5, 2, 'USD', 'sell', x) \n",
    "Coupon = solve(CDS - 0.03, x)\n",
    "Coupon"
   ]
  },
  {
   "cell_type": "code",
   "execution_count": 28,
   "metadata": {},
   "outputs": [
    {
     "data": {
      "text/plain": [
       "[4.61525743959468]"
      ]
     },
     "execution_count": 28,
     "metadata": {},
     "output_type": "execute_result"
    }
   ],
   "source": [
    "# European, EUR\n",
    "x = Symbol('x')\n",
    "CDS = Credit.price_european_cds(md, 'JAGUAR', 4.5, 2, 'EUR', 'sell', x) \n",
    "Coupon = solve(CDS - 0.03, x)\n",
    "Coupon"
   ]
  },
  {
   "cell_type": "code",
   "execution_count": 29,
   "metadata": {},
   "outputs": [
    {
     "data": {
      "text/plain": [
       "[3.92253432171411]"
      ]
     },
     "execution_count": 29,
     "metadata": {},
     "output_type": "execute_result"
    }
   ],
   "source": [
    "# American, USD\n",
    "x = Symbol('x')\n",
    "CDS = Credit.price_american_cds(md, 'JAGUAR', 4.5, 2, 'USD', 'sell', x) \n",
    "Coupon = solve(CDS - 0.03, x)\n",
    "Coupon"
   ]
  },
  {
   "cell_type": "code",
   "execution_count": 30,
   "metadata": {},
   "outputs": [
    {
     "data": {
      "text/plain": [
       "[3.89580426306778]"
      ]
     },
     "execution_count": 30,
     "metadata": {},
     "output_type": "execute_result"
    }
   ],
   "source": [
    "# American, EUR\n",
    "x = Symbol('x')\n",
    "CDS = Credit.price_american_cds(md, 'JAGUAR', 4.5, 2, 'EUR', 'sell', x) \n",
    "Coupon = solve(CDS -  0.03, x)\n",
    "Coupon"
   ]
  },
  {
   "cell_type": "code",
   "execution_count": 72,
   "metadata": {},
   "outputs": [
    {
     "data": {
      "text/plain": [
       "0.15569210243641626"
      ]
     },
     "execution_count": 72,
     "metadata": {},
     "output_type": "execute_result"
    }
   ],
   "source": [
    "Credit.price_cmcds(md, 'JAGUAR', 5, 1, 'EUR', 'buy', 0)"
   ]
  },
  {
   "cell_type": "code",
   "execution_count": 49,
   "metadata": {},
   "outputs": [
    {
     "data": {
      "text/plain": [
       "-0.15569210243641626"
      ]
     },
     "execution_count": 49,
     "metadata": {},
     "output_type": "execute_result"
    }
   ],
   "source": [
    "Credit.price_cmcds(md, 'JAGUAR', 5, 1, 'EUR', 'sell', 0)"
   ]
  },
  {
   "cell_type": "markdown",
   "metadata": {},
   "source": [
    "Поскольку protection leg в cmcds и cds одинаковы - можно купить cmcds и продать cds или наоборот, чтобы избавиться от этой части. Тогда останется разница только между премиальными ногами, которые принимают на себя только риск спреда. "
   ]
  },
  {
   "cell_type": "raw",
   "metadata": {},
   "source": [
    "Сравнение спредов с модом 0 и 1"
   ]
  },
  {
   "cell_type": "code",
   "execution_count": 33,
   "metadata": {},
   "outputs": [
    {
     "data": {
      "text/plain": [
       "0.11774397341692946"
      ]
     },
     "execution_count": 33,
     "metadata": {},
     "output_type": "execute_result"
    }
   ],
   "source": [
    "Credit.price_cmcds(md, 'JAGUAR', 5, 1, 'EUR', 'buy', 1)"
   ]
  },
  {
   "cell_type": "code",
   "execution_count": 34,
   "metadata": {},
   "outputs": [
    {
     "data": {
      "text/plain": [
       "0.11713121556944374"
      ]
     },
     "execution_count": 34,
     "metadata": {},
     "output_type": "execute_result"
    }
   ],
   "source": [
    "Credit.price_cmcds(md, 'JAGUAR', 5, 1, 'EUR', 'buy', 1)"
   ]
  },
  {
   "cell_type": "code",
   "execution_count": 35,
   "metadata": {},
   "outputs": [
    {
     "data": {
      "text/plain": [
       "0.11719121173556873"
      ]
     },
     "execution_count": 35,
     "metadata": {},
     "output_type": "execute_result"
    }
   ],
   "source": [
    "Credit.price_cmcds(md, 'JAGUAR', 5, 1, 'EUR', 'buy', 1)"
   ]
  },
  {
   "cell_type": "code",
   "execution_count": 36,
   "metadata": {},
   "outputs": [
    {
     "data": {
      "text/plain": [
       "0.11727740727451923"
      ]
     },
     "execution_count": 36,
     "metadata": {},
     "output_type": "execute_result"
    }
   ],
   "source": [
    "Credit.price_cmcds(md, 'JAGUAR', 5, 1, 'EUR', 'buy', 1)"
   ]
  },
  {
   "cell_type": "code",
   "execution_count": 37,
   "metadata": {},
   "outputs": [
    {
     "data": {
      "text/plain": [
       "0.11753817018824139"
      ]
     },
     "execution_count": 37,
     "metadata": {},
     "output_type": "execute_result"
    }
   ],
   "source": [
    "Credit.price_cmcds(md, 'JAGUAR', 5, 1, 'EUR', 'buy', 1)"
   ]
  },
  {
   "cell_type": "code",
   "execution_count": 38,
   "metadata": {},
   "outputs": [
    {
     "data": {
      "text/plain": [
       "0.11765796996810485"
      ]
     },
     "execution_count": 38,
     "metadata": {},
     "output_type": "execute_result"
    }
   ],
   "source": [
    "Credit.price_cmcds(md, 'JAGUAR', 5, 1, 'EUR', 'buy', 1)"
   ]
  },
  {
   "cell_type": "code",
   "execution_count": 39,
   "metadata": {},
   "outputs": [
    {
     "data": {
      "text/plain": [
       "-0.11689033963301658"
      ]
     },
     "execution_count": 39,
     "metadata": {},
     "output_type": "execute_result"
    }
   ],
   "source": [
    "Credit.price_cmcds(md, 'JAGUAR', 5, 1, 'EUR', 'sell', 1)"
   ]
  },
  {
   "cell_type": "code",
   "execution_count": 40,
   "metadata": {},
   "outputs": [
    {
     "data": {
      "text/plain": [
       "-0.11700797491610111"
      ]
     },
     "execution_count": 40,
     "metadata": {},
     "output_type": "execute_result"
    }
   ],
   "source": [
    "Credit.price_cmcds(md, 'JAGUAR', 5, 1, 'EUR', 'sell', 1)"
   ]
  },
  {
   "cell_type": "code",
   "execution_count": 41,
   "metadata": {},
   "outputs": [
    {
     "data": {
      "text/plain": [
       "-0.11767438306751796"
      ]
     },
     "execution_count": 41,
     "metadata": {},
     "output_type": "execute_result"
    }
   ],
   "source": [
    "Credit.price_cmcds(md, 'JAGUAR', 5, 1, 'EUR', 'sell', 1)"
   ]
  },
  {
   "cell_type": "code",
   "execution_count": 42,
   "metadata": {},
   "outputs": [
    {
     "data": {
      "text/plain": [
       "-0.11726318394877844"
      ]
     },
     "execution_count": 42,
     "metadata": {},
     "output_type": "execute_result"
    }
   ],
   "source": [
    "Credit.price_cmcds(md, 'JAGUAR', 5, 1, 'EUR', 'sell', 1)"
   ]
  },
  {
   "cell_type": "code",
   "execution_count": 43,
   "metadata": {},
   "outputs": [
    {
     "data": {
      "text/plain": [
       "-0.11718934220656255"
      ]
     },
     "execution_count": 43,
     "metadata": {},
     "output_type": "execute_result"
    }
   ],
   "source": [
    "Credit.price_cmcds(md, 'JAGUAR', 5, 1, 'EUR', 'sell', 1)"
   ]
  },
  {
   "cell_type": "code",
   "execution_count": 44,
   "metadata": {},
   "outputs": [
    {
     "data": {
      "text/plain": [
       "-0.11784497863779698"
      ]
     },
     "execution_count": 44,
     "metadata": {},
     "output_type": "execute_result"
    }
   ],
   "source": [
    "Credit.price_cmcds(md, 'JAGUAR', 5, 1, 'EUR', 'sell', 1)"
   ]
  },
  {
   "cell_type": "code",
   "execution_count": 45,
   "metadata": {},
   "outputs": [
    {
     "data": {
      "text/plain": [
       "(0.11737493638778845, -0.11737579963579728)"
      ]
     },
     "execution_count": 45,
     "metadata": {},
     "output_type": "execute_result"
    }
   ],
   "source": [
    "mean_lognorm_cmcds_buy = 0\n",
    "mean_lognorm_cmcds_sell = 0\n",
    "for i in range(100000):\n",
    "    mean_lognorm_cmcds_buy += Credit.price_cmcds(md, 'JAGUAR', 5, 1, 'EUR', 'buy', 1)\n",
    "    mean_lognorm_cmcds_sell += Credit.price_cmcds(md, 'JAGUAR', 5, 1, 'EUR', 'sell', 1)\n",
    "mean_lognorm_cmcds_buy /= 100000\n",
    "mean_lognorm_cmcds_sell /= 100000\n",
    "mean_lognorm_cmcds_buy, mean_lognorm_cmcds_sell"
   ]
  },
  {
   "cell_type": "code",
   "execution_count": 46,
   "metadata": {},
   "outputs": [
    {
     "data": {
      "text/plain": [
       "(0.03831716604862781, -0.038316302800618984)"
      ]
     },
     "execution_count": 46,
     "metadata": {},
     "output_type": "execute_result"
    }
   ],
   "source": [
    "diff1 = Credit.price_cmcds(md, 'JAGUAR', 5, 1, 'EUR', 'buy', 0) - mean_lognorm_cmcds_buy\n",
    "diff2 = Credit.price_cmcds(md, 'JAGUAR', 5, 1, 'EUR', 'sell', 0) - mean_lognorm_cmcds_sell\n",
    "diff1, diff2"
   ]
  },
  {
   "cell_type": "raw",
   "metadata": {},
   "source": [
    "diff1 и diff2 - разницы между прайсером с модом 0 и средним с модом 1\n",
    "(как видим - разница около 4 сотых)"
   ]
  },
  {
   "cell_type": "code",
   "execution_count": null,
   "metadata": {},
   "outputs": [],
   "source": []
  }
 ],
 "metadata": {
  "kernelspec": {
   "display_name": "Python 3",
   "language": "python",
   "name": "python3"
  },
  "language_info": {
   "codemirror_mode": {
    "name": "ipython",
    "version": 3
   },
   "file_extension": ".py",
   "mimetype": "text/x-python",
   "name": "python",
   "nbconvert_exporter": "python",
   "pygments_lexer": "ipython3",
   "version": "3.8.3"
  }
 },
 "nbformat": 4,
 "nbformat_minor": 4
}
